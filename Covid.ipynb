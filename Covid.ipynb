{
 "cells": [
  {
   "cell_type": "code",
   "execution_count": 33,
   "metadata": {},
   "outputs": [],
   "source": [
    "import numpy as np\n",
    "import pandas as pd \n",
    "import cv2\n",
    "import os\n",
    "import re\n",
    "import matplotlib.pyplot as plt\n",
    "from sklearn.model_selection import train_test_split\n",
    "from keras.utils import to_categorical\n",
    "from keras.applications.vgg16 import VGG16\n",
    "from keras.layers import Dense, Flatten\n",
    "from keras.models import Model\n",
    "from keras.losses import binary_crossentropy\n",
    "from keras.optimizers import Adam,Adadelta\n",
    "from keras.layers.core import Dropout\n",
    "from keras.layers.pooling import AveragePooling2D\n",
    "from sklearn.metrics import classification_report, confusion_matrix,accuracy_score\n",
    "from keras import Input\n",
    "from keras.callbacks import ModelCheckpoint\n",
    "%matplotlib inline"
   ]
  },
  {
   "cell_type": "code",
   "execution_count": 5,
   "metadata": {},
   "outputs": [],
   "source": [
    "training = []\n",
    "val = []\n",
    "train_labels = []\n",
    "val_labels = []\n",
    "\n",
    "trainCovid = './CovidDataset/Train/Covid/'\n",
    "trainNorm = './CovidDataset/Train/Normal/'\n",
    "valCovid = './CovidDataset/Val/Covid/'\n",
    "valNorm = './CovidDataset/Val/Normal/'"
   ]
  },
  {
   "cell_type": "code",
   "execution_count": 14,
   "metadata": {},
   "outputs": [],
   "source": [
    "def loadSet(dirPath):\n",
    "    files = os.listdir(dirPath)\n",
    "    x =[]\n",
    "    y = []\n",
    "    for file in files:\n",
    "        path = dirPath+file\n",
    "        img = cv2.resize(cv2.cvtColor(cv2.imread(path),cv2.COLOR_BGR2RGB),(128,128),interpolation = cv2.INTER_AREA)\n",
    "        x.append(img)\n",
    "        if(dirPath.split('/')[-2] == 'Covid'):\n",
    "            y.append(1)\n",
    "        else:\n",
    "            y.append(0)\n",
    "    return x,y        "
   ]
  },
  {
   "cell_type": "code",
   "execution_count": 36,
   "metadata": {},
   "outputs": [],
   "source": [
    "training,train_labels = loadSet(trainCovid)\n",
    "tempX, tempY = loadSet(trainNorm)\n",
    "training.extend(tempX)\n",
    "train_labels.extend(tempY)\n",
    "\n",
    "val,val_labels = loadSet(valCovid)\n",
    "tempX, tempY = loadSet(valNorm)\n",
    "val.extend(tempX)\n",
    "val_labels.extend(tempY)"
   ]
  },
  {
   "cell_type": "code",
   "execution_count": 37,
   "metadata": {},
   "outputs": [
    {
     "name": "stdout",
     "output_type": "stream",
     "text": [
      "(224, 128, 128, 3)\n",
      "(224,)\n",
      "(60, 128, 128, 3)\n",
      "(60,)\n"
     ]
    }
   ],
   "source": [
    "print(np.shape(training))\n",
    "print(np.shape(train_labels))\n",
    "print(np.shape(val))\n",
    "print(np.shape(val_labels))"
   ]
  },
  {
   "cell_type": "code",
   "execution_count": 38,
   "metadata": {},
   "outputs": [],
   "source": [
    "import random \n",
    "\n",
    "temp = list(zip(training, train_labels)) \n",
    "random.shuffle(temp) \n",
    "training, train_labels = zip(*temp) \n",
    "\n",
    "temp = list(zip(val, val_labels)) \n",
    "random.shuffle(temp) \n",
    "val, val_labels = zip(*temp) \n",
    "\n",
    "train_labels = to_categorical(train_labels,num_classes=2)\n",
    "val_labels = to_categorical(val_labels,num_classes=2)"
   ]
  },
  {
   "cell_type": "code",
   "execution_count": 40,
   "metadata": {},
   "outputs": [
    {
     "name": "stdout",
     "output_type": "stream",
     "text": [
      "Model: \"model_4\"\n",
      "_________________________________________________________________\n",
      "Layer (type)                 Output Shape              Param #   \n",
      "=================================================================\n",
      "input_4 (InputLayer)         (None, 128, 128, 3)       0         \n",
      "_________________________________________________________________\n",
      "block1_conv1 (Conv2D)        (None, 128, 128, 64)      1792      \n",
      "_________________________________________________________________\n",
      "block1_conv2 (Conv2D)        (None, 128, 128, 64)      36928     \n",
      "_________________________________________________________________\n",
      "block1_pool (MaxPooling2D)   (None, 64, 64, 64)        0         \n",
      "_________________________________________________________________\n",
      "block2_conv1 (Conv2D)        (None, 64, 64, 128)       73856     \n",
      "_________________________________________________________________\n",
      "block2_conv2 (Conv2D)        (None, 64, 64, 128)       147584    \n",
      "_________________________________________________________________\n",
      "block2_pool (MaxPooling2D)   (None, 32, 32, 128)       0         \n",
      "_________________________________________________________________\n",
      "block3_conv1 (Conv2D)        (None, 32, 32, 256)       295168    \n",
      "_________________________________________________________________\n",
      "block3_conv2 (Conv2D)        (None, 32, 32, 256)       590080    \n",
      "_________________________________________________________________\n",
      "block3_conv3 (Conv2D)        (None, 32, 32, 256)       590080    \n",
      "_________________________________________________________________\n",
      "block3_pool (MaxPooling2D)   (None, 16, 16, 256)       0         \n",
      "_________________________________________________________________\n",
      "block4_conv1 (Conv2D)        (None, 16, 16, 512)       1180160   \n",
      "_________________________________________________________________\n",
      "block4_conv2 (Conv2D)        (None, 16, 16, 512)       2359808   \n",
      "_________________________________________________________________\n",
      "block4_conv3 (Conv2D)        (None, 16, 16, 512)       2359808   \n",
      "_________________________________________________________________\n",
      "block4_pool (MaxPooling2D)   (None, 8, 8, 512)         0         \n",
      "_________________________________________________________________\n",
      "block5_conv1 (Conv2D)        (None, 8, 8, 512)         2359808   \n",
      "_________________________________________________________________\n",
      "block5_conv2 (Conv2D)        (None, 8, 8, 512)         2359808   \n",
      "_________________________________________________________________\n",
      "block5_conv3 (Conv2D)        (None, 8, 8, 512)         2359808   \n",
      "_________________________________________________________________\n",
      "block5_pool (MaxPooling2D)   (None, 4, 4, 512)         0         \n",
      "_________________________________________________________________\n",
      "average_pooling2d_4 (Average (None, 1, 1, 512)         0         \n",
      "_________________________________________________________________\n",
      "flatten (Flatten)            (None, 512)               0         \n",
      "_________________________________________________________________\n",
      "dense_7 (Dense)              (None, 128)               65664     \n",
      "_________________________________________________________________\n",
      "dropout_4 (Dropout)          (None, 128)               0         \n",
      "_________________________________________________________________\n",
      "dense_8 (Dense)              (None, 2)                 258       \n",
      "=================================================================\n",
      "Total params: 14,780,610\n",
      "Trainable params: 65,922\n",
      "Non-trainable params: 14,714,688\n",
      "_________________________________________________________________\n"
     ]
    }
   ],
   "source": [
    "# VGG model with Imagenet weights\n",
    "baseModel = VGG16(weights=\"imagenet\", include_top=False,input_tensor=Input(shape=(128, 128, 3)))\n",
    "\n",
    "#Adding custom layers to VGG16 \n",
    "\n",
    "headModel = baseModel.output\n",
    "headModel = AveragePooling2D(pool_size=(4, 4))(headModel)\n",
    "headModel = Flatten(name=\"flatten\")(headModel)\n",
    "headModel = Dense(128, activation=\"relu\")(headModel)\n",
    "headModel = Dropout(0.5)(headModel)\n",
    "headModel = Dense(2, activation=\"softmax\")(headModel)\n",
    "\n",
    "# Use the existing Imagenet weights for VGG16 --> To reduce training time\n",
    "for layer in baseModel.layers:\n",
    "    layer.trainable = False\n",
    "\n",
    "# Finally add custom model to final layer of VGG16    \n",
    "model = Model(inputs=baseModel.input, outputs=headModel)\n",
    "model.summary()"
   ]
  },
  {
   "cell_type": "code",
   "execution_count": 42,
   "metadata": {},
   "outputs": [],
   "source": [
    "model.compile(loss=categorical_crossentropy,\n",
    "              optimizer=Adam(),\n",
    "              metrics=['accuracy'])"
   ]
  },
  {
   "cell_type": "code",
   "execution_count": 43,
   "metadata": {},
   "outputs": [
    {
     "name": "stdout",
     "output_type": "stream",
     "text": [
      "Train on 224 samples, validate on 60 samples\n",
      "Epoch 1/20\n",
      "224/224 [==============================] - 24s 109ms/step - loss: 2.6842 - accuracy: 0.7545 - val_loss: 0.0822 - val_accuracy: 0.9833\n",
      "Epoch 2/20\n",
      "224/224 [==============================] - 25s 112ms/step - loss: 0.4071 - accuracy: 0.9554 - val_loss: 0.0335 - val_accuracy: 0.9833\n",
      "Epoch 3/20\n",
      "224/224 [==============================] - 29s 130ms/step - loss: 0.1633 - accuracy: 0.9777 - val_loss: 0.0861 - val_accuracy: 0.9667\n",
      "Epoch 4/20\n",
      "224/224 [==============================] - 27s 123ms/step - loss: 0.3915 - accuracy: 0.9420 - val_loss: 0.0266 - val_accuracy: 0.9833\n",
      "Epoch 5/20\n",
      "224/224 [==============================] - 29s 130ms/step - loss: 0.3224 - accuracy: 0.9598 - val_loss: 0.0312 - val_accuracy: 0.9667\n",
      "Epoch 6/20\n",
      "224/224 [==============================] - 35s 155ms/step - loss: 0.2485 - accuracy: 0.9688 - val_loss: 0.1532 - val_accuracy: 0.9667\n",
      "Epoch 7/20\n",
      "224/224 [==============================] - 28s 126ms/step - loss: 0.0062 - accuracy: 0.9955 - val_loss: 0.0093 - val_accuracy: 1.0000\n",
      "Epoch 8/20\n",
      "224/224 [==============================] - 27s 120ms/step - loss: 0.0419 - accuracy: 0.9911 - val_loss: 0.0190 - val_accuracy: 0.9833\n",
      "Epoch 9/20\n",
      "224/224 [==============================] - 27s 122ms/step - loss: 0.1140 - accuracy: 0.9911 - val_loss: 0.0674 - val_accuracy: 0.9667\n",
      "Epoch 10/20\n",
      "224/224 [==============================] - 27s 120ms/step - loss: 0.0335 - accuracy: 0.9866 - val_loss: 0.0056 - val_accuracy: 1.0000\n",
      "Epoch 11/20\n",
      "224/224 [==============================] - 27s 120ms/step - loss: 0.0296 - accuracy: 0.9866 - val_loss: 0.0347 - val_accuracy: 0.9833\n",
      "Epoch 12/20\n",
      "224/224 [==============================] - 28s 125ms/step - loss: 0.1362 - accuracy: 0.9777 - val_loss: 0.1963 - val_accuracy: 0.9667\n",
      "Epoch 13/20\n",
      "224/224 [==============================] - 27s 122ms/step - loss: 0.0361 - accuracy: 0.9955 - val_loss: 0.0589 - val_accuracy: 0.9833\n",
      "Epoch 14/20\n",
      "224/224 [==============================] - 27s 120ms/step - loss: 0.0074 - accuracy: 0.9955 - val_loss: 0.0356 - val_accuracy: 0.9833\n",
      "Epoch 15/20\n",
      "224/224 [==============================] - 29s 130ms/step - loss: 0.0020 - accuracy: 1.0000 - val_loss: 0.0444 - val_accuracy: 0.9833\n",
      "Epoch 16/20\n",
      "224/224 [==============================] - 27s 120ms/step - loss: 0.0023 - accuracy: 1.0000 - val_loss: 0.0673 - val_accuracy: 0.9833\n",
      "Epoch 17/20\n",
      "224/224 [==============================] - 30s 135ms/step - loss: 0.0087 - accuracy: 0.9955 - val_loss: 0.0616 - val_accuracy: 0.9833\n",
      "Epoch 18/20\n",
      "224/224 [==============================] - 27s 120ms/step - loss: 0.0343 - accuracy: 0.9911 - val_loss: 0.1616 - val_accuracy: 0.9667\n",
      "Epoch 19/20\n",
      "224/224 [==============================] - 28s 125ms/step - loss: 0.0071 - accuracy: 0.9955 - val_loss: 0.2093 - val_accuracy: 0.9667\n",
      "Epoch 20/20\n",
      "224/224 [==============================] - 27s 123ms/step - loss: 0.0169 - accuracy: 0.9955 - val_loss: 0.0111 - val_accuracy: 1.0000\n"
     ]
    },
    {
     "data": {
      "text/plain": [
       "<keras.callbacks.callbacks.History at 0x7f50d005ce80>"
      ]
     },
     "execution_count": 43,
     "metadata": {},
     "output_type": "execute_result"
    }
   ],
   "source": [
    "model.fit(np.array(training),np.array(train_labels),\n",
    "          batch_size=20,\n",
    "          verbose=1,\n",
    "          epochs=20,\n",
    "          validation_data=(np.array(val), np.array(val_labels)))"
   ]
  },
  {
   "cell_type": "code",
   "execution_count": 44,
   "metadata": {},
   "outputs": [
    {
     "data": {
      "text/plain": [
       "[<matplotlib.lines.Line2D at 0x7f50cf9cf6d8>]"
      ]
     },
     "execution_count": 44,
     "metadata": {},
     "output_type": "execute_result"
    },
    {
     "data": {
      "image/png": "[encoded data removed]",
      "text/plain": [
       "<Figure size 432x288 with 1 Axes>"
      ]
     },
     "metadata": {
      "needs_background": "light"
     },
     "output_type": "display_data"
    }
   ],
   "source": [
    "plt.plot(model.history.history['val_accuracy'],'red')\n",
    "plt.plot(model.history.history['accuracy'],'green')"
   ]
  },
  {
   "cell_type": "code",
   "execution_count": null,
   "metadata": {},
   "outputs": [],
   "source": []
  }
 ],
 "metadata": {
  "kernelspec": {
   "display_name": "Python 3",
   "language": "python",
   "name": "python3"
  },
  "language_info": {
   "codemirror_mode": {
    "name": "ipython",
    "version": 3
   },
   "file_extension": ".py",
   "mimetype": "text/x-python",
   "name": "python",
   "nbconvert_exporter": "python",
   "pygments_lexer": "ipython3",
   "version": "3.6.9"
  }
 },
 "nbformat": 4,
 "nbformat_minor": 2
}
